{
  "nbformat": 4,
  "nbformat_minor": 0,
  "metadata": {
    "colab": {
      "name": "Grasp_Git.ipynb",
      "provenance": [],
      "authorship_tag": "ABX9TyPZ4TJYI2FhgGSn2RM+VNbq",
      "include_colab_link": true
    },
    "kernelspec": {
      "name": "python3",
      "display_name": "Python 3"
    },
    "language_info": {
      "name": "python"
    }
  },
  "cells": [
    {
      "cell_type": "markdown",
      "metadata": {
        "id": "view-in-github",
        "colab_type": "text"
      },
      "source": [
        "<a href=\"https://colab.research.google.com/github/marcus-terra/geleia-grasp/blob/main/notebook/Grasp_Git.ipynb\" target=\"_parent\"><img src=\"https://colab.research.google.com/assets/colab-badge.svg\" alt=\"Open In Colab\"/></a>"
      ]
    },
    {
      "cell_type": "code",
      "metadata": {
        "id": "YV4guKmNs4vH"
      },
      "source": [
        "# Carrega aplicacao\n",
        "import os\n",
        "os.chdir('/content')\n",
        "DIRETORIO = 'geleia'\n",
        "\n",
        "# Clone Github Repository\n",
        "!git clone https://github.com/marcus-terra/geleia-grasp.git $DIRETORIO\n",
        "os.chdir(f'./{DIRETORIO}/grasp')"
      ],
      "execution_count": null,
      "outputs": []
    },
    {
      "cell_type": "code",
      "metadata": {
        "id": "c4lwKvR62YM1"
      },
      "source": [
        "import principal"
      ],
      "execution_count": 2,
      "outputs": []
    },
    {
      "cell_type": "code",
      "metadata": {
        "id": "aQqT7Cb54ALt"
      },
      "source": [
        "#for i in range(0,16):\n",
        "#   principal.principal('../casos/caso'+str(i)+'.csv',max_iteracoes=100,calcula_solucao_inicial=False)\n",
        "#   print('*************************************')\n",
        "principal.principal(url_caso_de_teste='../casos/caso18.csv',max_iteracoes=100,calcula_solucao_inicial=False)"
      ],
      "execution_count": null,
      "outputs": []
    }
  ]
}